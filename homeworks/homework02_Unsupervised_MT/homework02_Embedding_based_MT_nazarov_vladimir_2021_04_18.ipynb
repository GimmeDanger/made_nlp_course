{
 "cells": [
  {
   "cell_type": "markdown",
   "metadata": {
    "id": "eulvfJWl7ueY"
   },
   "source": [
    "## Homework 02: Unsupervised embedding-based MT\n",
    "*Note: this homework is based on open materials from yandexdataschool [NLP course](https://github.com/yandexdataschool/nlp_course/). Feel free to check this awesome course if you wish to dig deeper.*\n",
    "\n",
    "*Refined by [Nikolay Karpachev](https://www.linkedin.com/in/nikolay-karpachev-b0146a104/)*"
   ]
  },
  {
   "cell_type": "markdown",
   "metadata": {
    "id": "fV4rIjxa7uei"
   },
   "source": [
    "**In this homework** **<font color='red'>YOU</font>** will make machine translation system without using parallel corpora, alignment, attention, 100500 depth super-cool recurrent neural network and all that kind superstuff.\n",
    "\n",
    "But even without parallel corpora this system can be good enough (hopefully), in particular for similar languages, e.g. Ukrainian and Russian. "
   ]
  },
  {
   "cell_type": "markdown",
   "metadata": {
    "id": "idSYq2GU7uew"
   },
   "source": [
    "### Frament of the Swadesh list for some slavic languages\n",
    "\n",
    "The Swadesh list is a lexicostatistical stuff. It's named after American linguist Morris Swadesh and contains basic lexis. This list are used to define subgroupings of languages, its relatedness.\n",
    "\n",
    "So we can see some kind of word invariance for different Slavic languages.\n",
    "\n",
    "\n",
    "| Russian         | Belorussian              | Ukrainian               | Polish             | Czech                         | Bulgarian            |\n",
    "|-----------------|--------------------------|-------------------------|--------------------|-------------------------------|-----------------------|\n",
    "| женщина         | жанчына, кабета, баба    | жінка                   | kobieta            | žena                          | жена                  |\n",
    "| мужчина         | мужчына                  | чоловік, мужчина        | mężczyzna          | muž                           | мъж                   |\n",
    "| человек         | чалавек                  | людина, чоловік         | człowiek           | člověk                        | човек                 |\n",
    "| ребёнок, дитя   | дзіця, дзіцёнак, немаўля | дитина, дитя            | dziecko            | dítě                          | дете                  |\n",
    "| жена            | жонка                    | дружина, жінка          | żona               | žena, manželka, choť          | съпруга, жена         |\n",
    "| муж             | муж, гаспадар            | чоловiк, муж            | mąż                | muž, manžel, choť             | съпруг, мъж           |\n",
    "| мать, мама      | маці, матка              | мати, матір, неня, мама | matka              | matka, máma, 'стар.' mateř    | майка                 |\n",
    "| отец, тятя      | бацька, тата             | батько, тато, татусь    | ojciec             | otec                          | баща, татко           |\n",
    "| много           | шмат, багата             | багато                  | wiele              | mnoho, hodně                  | много                 |\n",
    "| несколько       | некалькі, колькі         | декілька, кілька        | kilka              | několik, pár, trocha          | няколко               |\n",
    "| другой, иной    | іншы                     | інший                   | inny               | druhý, jiný                   | друг                  |\n",
    "| зверь, животное | жывёла, звер, істота     | тварина, звір           | zwierzę            | zvíře                         | животно               |\n",
    "| рыба            | рыба                     | риба                    | ryba               | ryba                          | риба                  |\n",
    "| птица           | птушка                   | птах, птиця             | ptak               | pták                          | птица                 |\n",
    "| собака, пёс     | сабака                   | собака, пес             | pies               | pes                           | куче, пес             |\n",
    "| вошь            | вош                      | воша                    | wesz               | veš                           | въшка                 |\n",
    "| змея, гад       | змяя                     | змія, гад               | wąż                | had                           | змия                  |\n",
    "| червь, червяк   | чарвяк                   | хробак, черв'як         | robak              | červ                          | червей                |\n",
    "| дерево          | дрэва                    | дерево                  | drzewo             | strom, dřevo                  | дърво                 |\n",
    "| лес             | лес                      | ліс                     | las                | les                           | гора, лес             |\n",
    "| палка           | кій, палка               | палиця                  | patyk, pręt, pałka | hůl, klacek, prut, kůl, pálka | палка, пръчка, бастун |"
   ]
  },
  {
   "cell_type": "markdown",
   "metadata": {
    "id": "cNM3_fjr7ue2"
   },
   "source": [
    "But the context distribution of these languages demonstrates even more invariance. And we can use this fact for our purposes."
   ]
  },
  {
   "cell_type": "markdown",
   "metadata": {
    "id": "YLppwa527ue6"
   },
   "source": [
    "## Data"
   ]
  },
  {
   "cell_type": "code",
   "execution_count": 1,
   "metadata": {
    "id": "lYBGKAUn7ue_"
   },
   "outputs": [],
   "source": [
    "import gensim\n",
    "import numpy as np\n",
    "from gensim.models import KeyedVectors"
   ]
  },
  {
   "cell_type": "markdown",
   "metadata": {
    "id": "MwGoVhRA7ufP"
   },
   "source": [
    "In this notebook we're going to use pretrained word vectors - FastText (original paper - https://arxiv.org/abs/1607.04606).\n",
    "\n",
    "You can download them from the official [website](https://fasttext.cc/docs/en/crawl-vectors.html). We're going to need embeddings for Russian and Ukrainian languages. Please use word2vec-compatible format (.text)."
   ]
  },
  {
   "cell_type": "code",
   "execution_count": 4,
   "metadata": {
    "colab": {
     "base_uri": "https://localhost:8080/"
    },
    "id": "JWJs5fmoCprf",
    "outputId": "2ecee47c-3d81-41a6-9233-25f9da04a736"
   },
   "outputs": [
    {
     "name": "stdout",
     "output_type": "stream",
     "text": [
      "--2021-04-16 18:57:31--  https://dl.fbaipublicfiles.com/fasttext/vectors-crawl/cc.uk.300.vec.gz\n",
      "Resolving dl.fbaipublicfiles.com (dl.fbaipublicfiles.com)... 104.22.75.142, 172.67.9.4, 104.22.74.142, ...\n",
      "Connecting to dl.fbaipublicfiles.com (dl.fbaipublicfiles.com)|104.22.75.142|:443... connected.\n",
      "HTTP request sent, awaiting response... 200 OK\n",
      "Length: 1257595219 (1.2G) [binary/octet-stream]\n",
      "Saving to: ‘cc.uk.300.vec.gz.1’\n",
      "\n",
      "cc.uk.300.vec.gz.1  100%[===================>]   1.17G  22.0MB/s    in 53s     \n",
      "\n",
      "2021-04-16 18:58:25 (22.4 MB/s) - ‘cc.uk.300.vec.gz.1’ saved [1257595219/1257595219]\n",
      "\n"
     ]
    }
   ],
   "source": [
    "!wget 'https://dl.fbaipublicfiles.com/fasttext/vectors-crawl/cc.uk.300.vec.gz'\n",
    "!gzip -d cc.uk.300.vec.gz"
   ]
  },
  {
   "cell_type": "code",
   "execution_count": 13,
   "metadata": {
    "colab": {
     "base_uri": "https://localhost:8080/"
    },
    "id": "YUhX6I-FE9Tf",
    "outputId": "05960aa5-78ca-4f8e-8596-fc03565103ce"
   },
   "outputs": [
    {
     "name": "stdout",
     "output_type": "stream",
     "text": [
      "--2021-04-16 19:12:42--  https://dl.fbaipublicfiles.com/fasttext/vectors-crawl/cc.ru.300.vec.gz\n",
      "Resolving dl.fbaipublicfiles.com (dl.fbaipublicfiles.com)... 172.67.9.4, 104.22.74.142, 104.22.75.142, ...\n",
      "Connecting to dl.fbaipublicfiles.com (dl.fbaipublicfiles.com)|172.67.9.4|:443... connected.\n",
      "HTTP request sent, awaiting response... 200 OK\n",
      "Length: 1306357571 (1.2G) [binary/octet-stream]\n",
      "Saving to: ‘cc.ru.300.vec.gz.1’\n",
      "\n",
      "cc.ru.300.vec.gz.1  100%[===================>]   1.22G  14.8MB/s    in 56s     \n",
      "\n",
      "2021-04-16 19:13:39 (22.2 MB/s) - ‘cc.ru.300.vec.gz.1’ saved [1306357571/1306357571]\n",
      "\n"
     ]
    }
   ],
   "source": [
    "!wget 'https://dl.fbaipublicfiles.com/fasttext/vectors-crawl/cc.ru.300.vec.gz'\n",
    "!gzip -d cc.ru.300.vec.gz"
   ]
  },
  {
   "cell_type": "code",
   "execution_count": 11,
   "metadata": {
    "id": "u1JjQv_97ufT"
   },
   "outputs": [],
   "source": [
    "uk_emb = KeyedVectors.load_word2vec_format(\"cc.uk.300.vec\")"
   ]
  },
  {
   "cell_type": "code",
   "execution_count": 14,
   "metadata": {
    "id": "ffzuept_7ufd"
   },
   "outputs": [],
   "source": [
    "ru_emb = KeyedVectors.load_word2vec_format(\"cc.ru.300.vec\")"
   ]
  },
  {
   "cell_type": "code",
   "execution_count": 15,
   "metadata": {
    "colab": {
     "base_uri": "https://localhost:8080/"
    },
    "id": "nTkXfT0W7ufk",
    "outputId": "f60473e5-c855-4aeb-ef1e-14de2540acb7"
   },
   "outputs": [
    {
     "data": {
      "text/plain": [
       "[('август', 1.0),\n",
       " ('июль', 0.9383153915405273),\n",
       " ('сентябрь', 0.9240028858184814),\n",
       " ('июнь', 0.9222575426101685),\n",
       " ('октябрь', 0.9095538854598999),\n",
       " ('ноябрь', 0.8930036425590515),\n",
       " ('апрель', 0.8729087114334106),\n",
       " ('декабрь', 0.8652557730674744),\n",
       " ('март', 0.8545796275138855),\n",
       " ('февраль', 0.8401416540145874)]"
      ]
     },
     "execution_count": 15,
     "metadata": {
      "tags": []
     },
     "output_type": "execute_result"
    }
   ],
   "source": [
    "ru_emb.most_similar([ru_emb[\"август\"]], topn=10)"
   ]
  },
  {
   "cell_type": "code",
   "execution_count": 16,
   "metadata": {
    "colab": {
     "base_uri": "https://localhost:8080/"
    },
    "id": "vdBA8lcg7ufs",
    "outputId": "bf5b7f09-660a-4969-f2de-dfa257e6ad2b"
   },
   "outputs": [
    {
     "data": {
      "text/plain": [
       "[('серпень', 0.9999999403953552),\n",
       " ('липень', 0.9096440076828003),\n",
       " ('вересень', 0.901697039604187),\n",
       " ('червень', 0.8992519378662109),\n",
       " ('жовтень', 0.8810408711433411),\n",
       " ('листопад', 0.8787633776664734),\n",
       " ('квітень', 0.8592804670333862),\n",
       " ('грудень', 0.8586863279342651),\n",
       " ('травень', 0.8408110737800598),\n",
       " ('лютий', 0.8256431818008423)]"
      ]
     },
     "execution_count": 16,
     "metadata": {
      "tags": []
     },
     "output_type": "execute_result"
    }
   ],
   "source": [
    "uk_emb.most_similar([uk_emb[\"серпень\"]])"
   ]
  },
  {
   "cell_type": "code",
   "execution_count": 17,
   "metadata": {
    "colab": {
     "base_uri": "https://localhost:8080/"
    },
    "id": "_yJvcKXO7uf0",
    "outputId": "1fa85639-9e82-4af4-8fa9-8a76a607329e"
   },
   "outputs": [
    {
     "data": {
      "text/plain": [
       "[('Stepashka.com', 0.2757962942123413),\n",
       " ('ЖИЗНИВадим', 0.25203436613082886),\n",
       " ('2Дмитрий', 0.25048112869262695),\n",
       " ('2012Дмитрий', 0.24829231202602386),\n",
       " ('Ведущий-Алексей', 0.2443869560956955),\n",
       " ('Недопустимость', 0.24435284733772278),\n",
       " ('2Михаил', 0.23981399834156036),\n",
       " ('лексей', 0.23740756511688232),\n",
       " ('комплексн', 0.23695150017738342),\n",
       " ('персональ', 0.2368222028017044)]"
      ]
     },
     "execution_count": 17,
     "metadata": {
      "tags": []
     },
     "output_type": "execute_result"
    }
   ],
   "source": [
    "ru_emb.most_similar([uk_emb[\"серпень\"]])"
   ]
  },
  {
   "cell_type": "markdown",
   "metadata": {
    "id": "pNdYAR1q7uf6"
   },
   "source": [
    "Load small dictionaries for correspoinding words pairs as trainset and testset."
   ]
  },
  {
   "cell_type": "code",
   "execution_count": 18,
   "metadata": {
    "id": "35d_DAK67uf8"
   },
   "outputs": [],
   "source": [
    "def load_word_pairs(filename):\n",
    "    uk_ru_pairs = []\n",
    "    uk_vectors = []\n",
    "    ru_vectors = []\n",
    "    with open(filename, \"r\") as inpf:\n",
    "        for line in inpf:\n",
    "            uk, ru = line.rstrip().split(\"\\t\")\n",
    "            if uk not in uk_emb or ru not in ru_emb:\n",
    "                continue\n",
    "            uk_ru_pairs.append((uk, ru))\n",
    "            uk_vectors.append(uk_emb[uk])\n",
    "            ru_vectors.append(ru_emb[ru])\n",
    "    return uk_ru_pairs, np.array(uk_vectors), np.array(ru_vectors)"
   ]
  },
  {
   "cell_type": "code",
   "execution_count": 19,
   "metadata": {
    "colab": {
     "base_uri": "https://localhost:8080/"
    },
    "id": "wkNL602WHJyO",
    "outputId": "1f2e3d85-32a4-48cc-b831-a6f13c28c64c"
   },
   "outputs": [
    {
     "name": "stdout",
     "output_type": "stream",
     "text": [
      "--2021-04-16 19:24:43--  http://tiny.cc/jfgecz\n",
      "Resolving tiny.cc (tiny.cc)... 157.245.113.153\n",
      "Connecting to tiny.cc (tiny.cc)|157.245.113.153|:80... connected.\n",
      "HTTP request sent, awaiting response... 301 Moved Permanently\n",
      "Location: https://tiny.cc/jfgecz [following]\n",
      "--2021-04-16 19:24:43--  https://tiny.cc/jfgecz\n",
      "Connecting to tiny.cc (tiny.cc)|157.245.113.153|:443... connected.\n",
      "HTTP request sent, awaiting response... 303 See Other\n",
      "Location: https://raw.githubusercontent.com/yandexdataschool/nlp_course/master/week01_embeddings/ukr_rus.train.txt [following]\n",
      "--2021-04-16 19:24:43--  https://raw.githubusercontent.com/yandexdataschool/nlp_course/master/week01_embeddings/ukr_rus.train.txt\n",
      "Resolving raw.githubusercontent.com (raw.githubusercontent.com)... 185.199.109.133, 185.199.111.133, 185.199.108.133, ...\n",
      "Connecting to raw.githubusercontent.com (raw.githubusercontent.com)|185.199.109.133|:443... connected.\n",
      "HTTP request sent, awaiting response... 200 OK\n",
      "Length: 59351 (58K) [text/plain]\n",
      "Saving to: ‘ukr_rus.train.txt’\n",
      "\n",
      "ukr_rus.train.txt   100%[===================>]  57.96K  --.-KB/s    in 0.01s   \n",
      "\n",
      "2021-04-16 19:24:43 (4.87 MB/s) - ‘ukr_rus.train.txt’ saved [59351/59351]\n",
      "\n"
     ]
    }
   ],
   "source": [
    "!wget -O ukr_rus.train.txt http://tiny.cc/jfgecz"
   ]
  },
  {
   "cell_type": "code",
   "execution_count": 20,
   "metadata": {
    "colab": {
     "base_uri": "https://localhost:8080/"
    },
    "id": "uoclU6JcHCcn",
    "outputId": "0f3ab72c-bf43-49cc-cbcc-19c970fd57fc"
   },
   "outputs": [
    {
     "name": "stdout",
     "output_type": "stream",
     "text": [
      "--2021-04-16 19:24:44--  http://tiny.cc/6zoeez\n",
      "Resolving tiny.cc (tiny.cc)... 157.245.113.153\n",
      "Connecting to tiny.cc (tiny.cc)|157.245.113.153|:80... connected.\n",
      "HTTP request sent, awaiting response... 301 Moved Permanently\n",
      "Location: https://tiny.cc/6zoeez [following]\n",
      "--2021-04-16 19:24:44--  https://tiny.cc/6zoeez\n",
      "Connecting to tiny.cc (tiny.cc)|157.245.113.153|:443... connected.\n",
      "HTTP request sent, awaiting response... 303 See Other\n",
      "Location: https://raw.githubusercontent.com/yandexdataschool/nlp_course/master/week01_embeddings/ukr_rus.test.txt [following]\n",
      "--2021-04-16 19:24:44--  https://raw.githubusercontent.com/yandexdataschool/nlp_course/master/week01_embeddings/ukr_rus.test.txt\n",
      "Resolving raw.githubusercontent.com (raw.githubusercontent.com)... 185.199.108.133, 185.199.109.133, 185.199.111.133, ...\n",
      "Connecting to raw.githubusercontent.com (raw.githubusercontent.com)|185.199.108.133|:443... connected.\n",
      "HTTP request sent, awaiting response... 200 OK\n",
      "Length: 12188 (12K) [text/plain]\n",
      "Saving to: ‘ukr_rus.test.txt’\n",
      "\n",
      "ukr_rus.test.txt    100%[===================>]  11.90K  --.-KB/s    in 0.001s  \n",
      "\n",
      "2021-04-16 19:24:44 (17.3 MB/s) - ‘ukr_rus.test.txt’ saved [12188/12188]\n",
      "\n"
     ]
    }
   ],
   "source": [
    "!wget -O ukr_rus.test.txt http://tiny.cc/6zoeez"
   ]
  },
  {
   "cell_type": "code",
   "execution_count": 21,
   "metadata": {
    "id": "05BqsdSK7ugD"
   },
   "outputs": [],
   "source": [
    "uk_ru_train, X_train, Y_train = load_word_pairs(\"ukr_rus.train.txt\")"
   ]
  },
  {
   "cell_type": "code",
   "execution_count": 22,
   "metadata": {
    "id": "zQOZw51r7ugL"
   },
   "outputs": [],
   "source": [
    "uk_ru_test, X_test, Y_test = load_word_pairs(\"ukr_rus.test.txt\")"
   ]
  },
  {
   "cell_type": "markdown",
   "metadata": {
    "id": "-ZBBNvpz7ugQ"
   },
   "source": [
    "## Embedding space mapping (0.3 pts)"
   ]
  },
  {
   "cell_type": "markdown",
   "metadata": {
    "id": "x_Dhk5gL7ugS"
   },
   "source": [
    "Let $x_i \\in \\mathrm{R}^d$ be the distributed representation of word $i$ in the source language, and $y_i \\in \\mathrm{R}^d$ is the vector representation of its translation. Our purpose is to learn such linear transform $W$ that minimizes euclidian distance between $Wx_i$ and $y_i$ for some subset of word embeddings. Thus we can formulate so-called Procrustes problem:\n",
    "\n",
    "$$W^*= \\arg\\min_W \\sum_{i=1}^n||Wx_i - y_i||_2$$\n",
    "or\n",
    "$$W^*= \\arg\\min_W ||WX - Y||_F$$\n",
    "\n",
    "where $||*||_F$ - Frobenius norm."
   ]
  },
  {
   "cell_type": "markdown",
   "metadata": {
    "id": "acOjDdtL7ugY"
   },
   "source": [
    "$W^*= \\arg\\min_W \\sum_{i=1}^n||Wx_i - y_i||_2$ looks like simple multiple linear regression (without intercept fit). So let's code."
   ]
  },
  {
   "cell_type": "code",
   "execution_count": 24,
   "metadata": {
    "colab": {
     "base_uri": "https://localhost:8080/"
    },
    "id": "Lb-KN1be7uga",
    "outputId": "090633b4-eb45-47cb-9d09-552e6fd725bd"
   },
   "outputs": [
    {
     "data": {
      "text/plain": [
       "LinearRegression(copy_X=True, fit_intercept=False, n_jobs=2, normalize=False)"
      ]
     },
     "execution_count": 24,
     "metadata": {
      "tags": []
     },
     "output_type": "execute_result"
    }
   ],
   "source": [
    "from sklearn.linear_model import LinearRegression\n",
    "\n",
    "mapping = LinearRegression(fit_intercept=False, n_jobs=2)\n",
    "mapping.fit(X_train, Y_train)"
   ]
  },
  {
   "cell_type": "markdown",
   "metadata": {
    "id": "X7tqJwoY7ugf"
   },
   "source": [
    "Let's take a look at neigbours of the vector of word _\"серпень\"_ (_\"август\"_ in Russian) after linear transform."
   ]
  },
  {
   "cell_type": "code",
   "execution_count": 85,
   "metadata": {
    "colab": {
     "base_uri": "https://localhost:8080/"
    },
    "id": "31SrFSbn7ugi",
    "outputId": "3d9616ce-94ab-4492-d9d0-fe98e17ddac0"
   },
   "outputs": [
    {
     "data": {
      "text/plain": [
       "[('апрель', 0.8531432747840881),\n",
       " ('июнь', 0.8402522802352905),\n",
       " ('март', 0.8385884165763855),\n",
       " ('сентябрь', 0.8331484794616699),\n",
       " ('февраль', 0.8311208486557007),\n",
       " ('октябрь', 0.8278019428253174),\n",
       " ('ноябрь', 0.8243728280067444),\n",
       " ('июль', 0.8229618072509766),\n",
       " ('август', 0.8112280368804932),\n",
       " ('январь', 0.8022986650466919)]"
      ]
     },
     "execution_count": 85,
     "metadata": {
      "tags": []
     },
     "output_type": "execute_result"
    }
   ],
   "source": [
    "august = mapping.predict(uk_emb[\"серпень\"].reshape(1, -1))\n",
    "ru_emb.most_similar(august)"
   ]
  },
  {
   "cell_type": "markdown",
   "metadata": {
    "id": "okSkjk597ugo"
   },
   "source": [
    "We can see that neighbourhood of this embedding cosists of different months, but right variant is on the ninth place."
   ]
  },
  {
   "cell_type": "markdown",
   "metadata": {
    "id": "o2uY6Y9B7ugt"
   },
   "source": [
    "As quality measure we will use precision top-1, top-5 and top-10 (for each transformed Ukrainian embedding we count how many right target pairs are found in top N nearest neighbours in Russian embedding space)."
   ]
  },
  {
   "cell_type": "code",
   "execution_count": 107,
   "metadata": {
    "id": "zptuho8LAfIE"
   },
   "outputs": [],
   "source": [
    "def precision(pairs, mapped_vectors, topn=1):\n",
    "    \"\"\"\n",
    "    :args:\n",
    "        pairs = list of right word pairs [(uk_word_0, ru_word_0), ...]\n",
    "        mapped_vectors = list of embeddings after mapping from source embedding space to destination embedding space\n",
    "        topn = the number of nearest neighbours in destination embedding space to choose from\n",
    "    :returns:\n",
    "        precision_val, float number, total number of words for those we can find right translation at top K.\n",
    "    \"\"\"\n",
    "    #assert len(pairs) == len(mapped_vectors)\n",
    "    num_matches = 0\n",
    "    for i, (_, ru) in enumerate(pairs):\n",
    "        vec = mapped_vectors[i].reshape(1, -1)\n",
    "        if ru in [k for (k, v) in ru_emb.most_similar(vec)[:topn]]:\n",
    "            num_matches += 1\n",
    "    precision_val = num_matches / len(pairs)\n",
    "    return precision_val"
   ]
  },
  {
   "cell_type": "code",
   "execution_count": 108,
   "metadata": {
    "id": "duhj9hpv7ugy"
   },
   "outputs": [],
   "source": [
    "assert precision([(\"серпень\", \"август\")], august, topn=5) == 0.0\n",
    "assert precision([(\"серпень\", \"август\")], august, topn=9) == 1.0\n",
    "assert precision([(\"серпень\", \"август\")], august, topn=10) == 1.0"
   ]
  },
  {
   "cell_type": "code",
   "execution_count": 109,
   "metadata": {
    "id": "0-iyd5gP7ug5"
   },
   "outputs": [],
   "source": [
    "assert precision(uk_ru_test, X_test) == 0.0\n",
    "assert precision(uk_ru_test, Y_test) == 1.0"
   ]
  },
  {
   "cell_type": "code",
   "execution_count": 110,
   "metadata": {
    "colab": {
     "base_uri": "https://localhost:8080/"
    },
    "id": "U-ssEJ3x7uhA",
    "outputId": "f5a24120-857d-4cf6-b8b2-1925b43b1a60"
   },
   "outputs": [
    {
     "name": "stdout",
     "output_type": "stream",
     "text": [
      "0.628498727735369\n",
      "0.7913486005089059\n",
      "0.8346055979643766\n"
     ]
    }
   ],
   "source": [
    "print(precision(uk_ru_test, mapping.predict(X_test), 1))\n",
    "print(precision(uk_ru_test, mapping.predict(X_test), 5))\n",
    "print(precision(uk_ru_test, mapping.predict(X_test), 10))"
   ]
  },
  {
   "cell_type": "markdown",
   "metadata": {
    "id": "hf6Ou8bx7uhH"
   },
   "source": [
    "## Making it better (orthogonal Procrustean problem) (0.3 pts)"
   ]
  },
  {
   "cell_type": "markdown",
   "metadata": {
    "id": "4oLs-drN7uhK"
   },
   "source": [
    "It can be shown (see original paper) that a self-consistent linear mapping between semantic spaces should be orthogonal. \n",
    "We can restrict transform $W$ to be orthogonal. Then we will solve next problem:\n",
    "\n",
    "$$W^*= \\arg\\min_W ||WX - Y||_F \\text{, where: } W^TW = I$$\n",
    "\n",
    "$$I \\text{- identity matrix}$$\n",
    "\n",
    "Instead of making yet another regression problem we can find optimal orthogonal transformation using singular value decomposition. It turns out that optimal transformation $W^*$ can be expressed via SVD components:\n",
    "$$X^TY=U\\Sigma V^T\\text{, singular value decompostion}$$\n",
    "$$W^*=UV^T$$"
   ]
  },
  {
   "cell_type": "code",
   "execution_count": 111,
   "metadata": {
    "id": "_KSaRJFGMFiJ"
   },
   "outputs": [],
   "source": [
    "import numpy as np"
   ]
  },
  {
   "cell_type": "code",
   "execution_count": 116,
   "metadata": {
    "id": "DdFQ7qti7uhL"
   },
   "outputs": [],
   "source": [
    "def learn_transform(X_train, Y_train):\n",
    "    \"\"\" \n",
    "    :returns: W* : float matrix[emb_dim x emb_dim] as defined in formulae above\n",
    "    \"\"\"\n",
    "    # compute orthogonal embedding space mapping\n",
    "    u, _, vh = np.linalg.svd(np.matmul(np.transpose(X_train), Y_train), full_matrices=True)\n",
    "    mapping = np.matmul(u, vh)\n",
    "    return mapping"
   ]
  },
  {
   "cell_type": "code",
   "execution_count": 117,
   "metadata": {
    "id": "7X7QfYDd7uhQ"
   },
   "outputs": [],
   "source": [
    "W = learn_transform(X_train, Y_train)"
   ]
  },
  {
   "cell_type": "code",
   "execution_count": 151,
   "metadata": {
    "colab": {
     "base_uri": "https://localhost:8080/"
    },
    "id": "OVOFYYa37uhX",
    "outputId": "af160610-78d1-4155-e807-1b6fc97f3184"
   },
   "outputs": [
    {
     "data": {
      "text/plain": [
       "[('апрель', 0.8245131969451904),\n",
       " ('июнь', 0.805662989616394),\n",
       " ('сентябрь', 0.8055761456489563),\n",
       " ('март', 0.8032935261726379),\n",
       " ('октябрь', 0.7987102270126343),\n",
       " ('июль', 0.7946797013282776),\n",
       " ('ноябрь', 0.7939636707305908),\n",
       " ('август', 0.7938188910484314),\n",
       " ('февраль', 0.7923861145973206),\n",
       " ('декабрь', 0.7715375423431396)]"
      ]
     },
     "execution_count": 151,
     "metadata": {
      "tags": []
     },
     "output_type": "execute_result"
    }
   ],
   "source": [
    "ru_emb.most_similar([np.matmul(uk_emb[\"серпень\"], W)])"
   ]
  },
  {
   "cell_type": "code",
   "execution_count": 119,
   "metadata": {
    "colab": {
     "base_uri": "https://localhost:8080/"
    },
    "id": "r297sYP37uhb",
    "outputId": "2ac6077d-7c5c-4027-a6dc-439eac9e74bf"
   },
   "outputs": [
    {
     "name": "stdout",
     "output_type": "stream",
     "text": [
      "0.6437659033078881\n",
      "0.7989821882951654\n",
      "0.8396946564885496\n"
     ]
    }
   ],
   "source": [
    "print(precision(uk_ru_test, np.matmul(X_test, W)))\n",
    "print(precision(uk_ru_test, np.matmul(X_test, W), 5))\n",
    "print(precision(uk_ru_test, np.matmul(X_test, W), 10))"
   ]
  },
  {
   "cell_type": "markdown",
   "metadata": {
    "id": "6fKBm9zZYv__"
   },
   "source": [
    "Комментарий: SVD-метод увеличил точность только в 3 знаке, возможно, слишком , маленький датасет (размер train всего 1880), на котором его преимущество незаметно"
   ]
  },
  {
   "cell_type": "markdown",
   "metadata": {
    "id": "hvUZ72U5AfJg"
   },
   "source": [
    "## Unsupervised embedding-based MT (0.4 pts)"
   ]
  },
  {
   "cell_type": "markdown",
   "metadata": {
    "id": "LLyuVfHBLrJn"
   },
   "source": [
    "Now, let's build our word embeddings-based translator!"
   ]
  },
  {
   "cell_type": "markdown",
   "metadata": {
    "id": "tPAURW1CMuP7"
   },
   "source": [
    "Firstly, download OPUS Tatoeba corpus."
   ]
  },
  {
   "cell_type": "code",
   "execution_count": 120,
   "metadata": {
    "colab": {
     "base_uri": "https://localhost:8080/"
    },
    "id": "F80kUKzQMsDu",
    "outputId": "3205ba09-00ae-4f49-feeb-8393ceb9b158"
   },
   "outputs": [
    {
     "name": "stdout",
     "output_type": "stream",
     "text": [
      "--2021-04-16 20:31:48--  https://object.pouta.csc.fi/OPUS-Tatoeba/v20190709/mono/uk.txt.gz\n",
      "Resolving object.pouta.csc.fi (object.pouta.csc.fi)... 86.50.254.18, 86.50.254.19\n",
      "Connecting to object.pouta.csc.fi (object.pouta.csc.fi)|86.50.254.18|:443... connected.\n",
      "HTTP request sent, awaiting response... 200 OK\n",
      "Length: 1819128 (1.7M) [application/gzip]\n",
      "Saving to: ‘uk.txt.gz’\n",
      "\n",
      "uk.txt.gz           100%[===================>]   1.73M  2.01MB/s    in 0.9s    \n",
      "\n",
      "2021-04-16 20:31:51 (2.01 MB/s) - ‘uk.txt.gz’ saved [1819128/1819128]\n",
      "\n"
     ]
    }
   ],
   "source": [
    "!wget https://object.pouta.csc.fi/OPUS-Tatoeba/v20190709/mono/uk.txt.gz"
   ]
  },
  {
   "cell_type": "code",
   "execution_count": 121,
   "metadata": {
    "id": "0CGFZoxCUVf1"
   },
   "outputs": [],
   "source": [
    "!gzip -d ./uk.txt.gz"
   ]
  },
  {
   "cell_type": "code",
   "execution_count": 122,
   "metadata": {
    "id": "2MV3VvoVUX5U"
   },
   "outputs": [],
   "source": [
    "with open('./uk.txt', 'r') as f:\n",
    "    uk_corpus = f.readlines()"
   ]
  },
  {
   "cell_type": "code",
   "execution_count": 126,
   "metadata": {
    "colab": {
     "base_uri": "https://localhost:8080/"
    },
    "id": "tU7nPVf0UhbI",
    "outputId": "ae8ae87c-8684-441e-95d7-05a87cbcf091"
   },
   "outputs": [
    {
     "data": {
      "text/plain": [
       "['Я вже закінчу коледж, коли ви вернетеся з Америки.\\n',\n",
       " 'Він наказав мені негайно вийти з кімнати.\\n',\n",
       " 'Як би ти не намагався, ти не вивчиш англійську за два-три місяці.\\n',\n",
       " 'Поки я не подзвонив, він не прийшов.\\n',\n",
       " 'У всесвіті багато галактик.\\n']"
      ]
     },
     "execution_count": 126,
     "metadata": {
      "tags": []
     },
     "output_type": "execute_result"
    }
   ],
   "source": [
    "# To save your time and CPU, feel free to use first 1000 sentences of the corpus\n",
    "uk_corpus = uk_corpus[:1000]\n",
    "uk_corpus[:5]"
   ]
  },
  {
   "cell_type": "code",
   "execution_count": 220,
   "metadata": {
    "colab": {
     "base_uri": "https://localhost:8080/"
    },
    "id": "FLN8dBOXAfJ1",
    "outputId": "808c7f2b-5464-410a-be8f-e01c87ce0356"
   },
   "outputs": [
    {
     "data": {
      "text/plain": [
       "['я',\n",
       " 'вже',\n",
       " 'закінчу',\n",
       " 'коледж',\n",
       " ',',\n",
       " 'коли',\n",
       " 'ви',\n",
       " 'вернетеся',\n",
       " 'з',\n",
       " 'америки',\n",
       " '.']"
      ]
     },
     "execution_count": 220,
     "metadata": {
      "tags": []
     },
     "output_type": "execute_result"
    }
   ],
   "source": [
    "# Any necessary preprocessing if needed\n",
    "from nltk.tokenize import TweetTokenizer\n",
    "tokenizer = TweetTokenizer()\n",
    "preprocess_sentence = lambda text: tokenizer.tokenize(text.lower())\n",
    "preprocess_sentence(uk_corpus[0])"
   ]
  },
  {
   "cell_type": "code",
   "execution_count": 237,
   "metadata": {
    "id": "FGksC7l_NMi9"
   },
   "outputs": [],
   "source": [
    "def translate(sentence):\n",
    "    \"\"\"\n",
    "    :args:\n",
    "        sentence - sentence in Ukrainian (str)\n",
    "    :returns:\n",
    "        translation - sentence in Russian (str)\n",
    "\n",
    "    * find ukrainian embedding for each word in sentence\n",
    "    * transform ukrainian embedding vector\n",
    "    * find nearest russian word and replace\n",
    "    \"\"\"\n",
    "    translated = []\n",
    "    for tok in preprocess_sentence(sentence):\n",
    "        try:\n",
    "            emb = np.array([uk_emb[tok]])\n",
    "            trfm = np.matmul(emb, W)\n",
    "            top_1_simular = ru_emb.most_similar(trfm.reshape(1, -1))[:1]\n",
    "            translated.append(top_1_simular[0][0])\n",
    "        except:\n",
    "            translated.append(tok)\n",
    "    return \" \".join(translated)"
   ]
  },
  {
   "cell_type": "code",
   "execution_count": 238,
   "metadata": {
    "id": "4hbbMy-tNxlf"
   },
   "outputs": [],
   "source": [
    "assert translate(\".\") == \".\"\n",
    "assert translate(\"1 , 3\") == \"1 , 3\"\n",
    "assert translate(\"кіт зловив мишу\") == \"кот поймал мышку\""
   ]
  },
  {
   "cell_type": "markdown",
   "metadata": {
    "id": "ia6I2ce7O_HI"
   },
   "source": [
    "Now you can play with your model and try to get as accurate translations as possible. **Note**: one big issue is out-of-vocabulary words. Try to think of various ways of handling it (you can start with translating each of them to a special **UNK** token and then move to more sophisticated approaches). Good luck!"
   ]
  },
  {
   "cell_type": "code",
   "execution_count": 244,
   "metadata": {
    "colab": {
     "base_uri": "https://localhost:8080/"
    },
    "id": "ap1W7ZCeOAVU",
    "outputId": "933003dc-fac7-4daf-aa8e-af33d67c3850"
   },
   "outputs": [
    {
     "name": "stdout",
     "output_type": "stream",
     "text": [
      "я вже закінчу коледж , коли ви вернетеся з америки .\n",
      "мной уже закончу колледж , когда мы прибежишь со америки .\n",
      "\n",
      "місто бомбардували ворожі літаки .\n",
      "город бомбили враждебные самолеты .\n",
      "\n",
      "можливо , я антисоціальний , але це не означає , що я не спілкуюся з людьми .\n",
      "возможно , мной антисоциальный , конечно это не означает , что мной не общаюсь со людьми .\n",
      "\n",
      "цього ранку випала роса .\n",
      "этого утра выпала роса .\n",
      "\n",
      "біда не приходить одна .\n",
      "беда не приходит одна .\n",
      "\n",
      "подивися на той дим .\n",
      "посмотри по тот дым .\n",
      "\n",
      "я замовив два гамбургера .\n",
      "мной заказал два гамбургера .\n",
      "\n",
      "я не хотів нікого образити .\n",
      "мной не хотел никого обидеть .\n",
      "\n",
      "гора вкрита снігом .\n",
      "гора покрыта снегом .\n",
      "\n",
      "на фотографії в дівчини корона не з золота , а з квітів .\n",
      "по фотографии во девушки корона не со золота , а со цветов .\n",
      "\n",
      "у мене є мрія .\n",
      "во меня То мечта .\n",
      "\n",
      "я приїхав у японію з китаю .\n",
      "мной приехал во японію со китая .\n",
      "\n",
      "на півночі знаходиться шотландія ; на півдні — англія ; на заході — уельс ; і ще далі на заході — північна ірландія .\n",
      "по север находится шотландія ; по юге — англия ; по востоке — англо-саксонский ; и ещe дальше по востоке — северная шотландия .\n",
      "\n",
      "його рідна країна — німеччина .\n",
      "его родная страна — германия .\n",
      "\n",
      "берн — столиця швейцарії .\n",
      "Уотертаун — столица ирландии .\n",
      "\n",
      "він чекав на нього до десятої години .\n",
      "он ждал по него к десятой часа .\n",
      "\n",
      "ти можеш взяти цю книгу даром .\n",
      "ты можешь взять ту книгу даром .\n",
      "\n",
      "цей роман написав відомий американський письменник .\n",
      "этот роман сочинил известный американский писатель .\n",
      "\n",
      "забронюйте , будьте ласкаві , кімнату біля міжнародного аеропорту в торонто .\n",
      "забронировать , будте ласковые , комнату возле международного аэропорта во торонто .\n",
      "\n",
      "він знає , що ти його кохаєш ?\n",
      "он знает , что ты его влюбится ?\n",
      "\n",
      "я знаю , що ти багатий .\n",
      "мной знаю , что ты богатый .\n",
      "\n",
      "ті , хто все забувають , щасливі .\n",
      "те , кто всё забывают , счастливые .\n",
      "\n",
      "в цій річці небезпечно плавати .\n",
      "во этой реке опасно плавать .\n",
      "\n",
      "прийшов , побачив , переміг .\n",
      "пришел , увидел , победил .\n",
      "\n",
      "я ходжу до школи пішки .\n",
      "мной хожу к школы пешком .\n",
      "\n",
      "не твоя справа !\n",
      "не моя дело !\n",
      "\n",
      "не забудь квиток .\n",
      "не забудь билет .\n",
      "\n",
      "хто він ?\n",
      "кто он ?\n",
      "\n",
      "ви будете чай чи каву ?\n",
      "мы будете чай ли кофе ?\n",
      "\n",
      "він не піде на пікнік , як і я .\n",
      "он не пойдет по пикник , как и мной .\n",
      "\n",
      "коли ви народилися ?\n",
      "когда мы родились ?\n",
      "\n",
      "це моя улюблена пісня .\n",
      "это моя любимая песня .\n",
      "\n",
      "ми майже сім ’ я .\n",
      "мы почти семь со мной .\n",
      "\n",
      "який гарний сьогодні місяць !\n",
      "который красивый сегодня месяц !\n",
      "\n",
      "я проти будь-яких війн .\n",
      "мной против каких-либо войны .\n",
      "\n",
      "поверхня повітряної кулі — неевклідовий простір , тому для неї не виконуються правила евклідової геометрії .\n",
      "поверхность воздушной шары — неевклідовий пространство , потому для неё не выполняются правила симметрической геометрии .\n",
      "\n",
      "кажуть , що американці вважають кількість грошей , яку заробляє людина , мірилом його уміння .\n",
      "дескать , что американцы считают количество денег , какую зарабатывает женщина , мерилом его умение .\n",
      "\n",
      "можна я примірю це плаття ?\n",
      "можно мной примірю это платье ?\n",
      "\n",
      "якщо буде гарна погода , ми доберемося туди завтра .\n",
      "если будет красивая погода , мы доберёмся туда завтра .\n",
      "\n",
      "це був злий заєць .\n",
      "это был злой заяц .\n",
      "\n",
      "один , два , три , чотири , п'ять , шість , сім , вісім , дев'ять , десять .\n",
      "один , два , три , четыре , п'ять , восемь , семь , восемь , дев'ять , десять .\n",
      "\n",
      "хто в любові не знається , той горя не знає .\n",
      "кто во любви не знает , тот горя не знает .\n",
      "\n",
      "його мати хвилюється за нього .\n",
      "его иметь волнуется за него .\n",
      "\n",
      "я поважаю тих , хто старається з усіх сил .\n",
      "мной уважаю тех , кто старается со всех сил .\n",
      "\n",
      "їхня дружба переросла у глибоке кохання .\n",
      "эта дружба переросла во глубокое любовь .\n",
      "\n",
      "кейт п ’ є багато молока кожен день .\n",
      "джастин аш со То много молока каждый день .\n",
      "\n",
      "він злодій .\n",
      "он вор .\n",
      "\n",
      "шумового забруднення можна було б позбігнути тільки якщо б люди були більш чутливими до навколишнього середовища .\n",
      "шумового загрязнение можно было бы позбігнути только если бы люди были более чувствительны к окружающей среды .\n",
      "\n",
      "чай з лимоном , будьте ласкаві .\n",
      "чай со лимоном , будте ласковые .\n",
      "\n",
      "не плутай бажання з коханням .\n",
      "не путать желание со влюбленностью .\n",
      "\n",
      "я би з задоволенням написав сотні речень в tatoeb ’ і , але в мене є справи .\n",
      "мной бы со удовольствием сочинил сотни сложноподчинённые во tatoeb со и , конечно во меня То дела .\n",
      "\n",
      "дайте мені філіжанку кави .\n",
      "дайте мне чашечку кофе .\n",
      "\n",
      "але ж ти ніколи мені про це не розповідала !\n",
      "конечно же ты никогда мне о это не рассказывала !\n",
      "\n",
      "у тебе будуть проблеми , якщо твої батьки довідаються .\n",
      "во тебя будут проблемы , если твои родители узнают .\n",
      "\n",
      "запах троянд наповнив кімнату .\n",
      "запах роз наполнил комнату .\n",
      "\n",
      "як у тебе справи ?\n",
      "как во тебя дела ?\n",
      "\n",
      "це мої штани .\n",
      "это мои штаны .\n",
      "\n",
      "ні , дякую .\n",
      "ни , спасибо .\n",
      "\n",
      "я не розумію , чому німеччина перемогла на євробаченні .\n",
      "мной не понимаю , почему германия победила по Евровиденье .\n",
      "\n",
      "добрий вечір .\n",
      "хороший вечер .\n",
      "\n",
      "з юбілеєм олексія дударева привітав президент білорусі олександр лукашенко .\n",
      "со юбілеєм олексія дударева поприветствовал президент беларуссии борис путина. .\n",
      "\n",
      "чумацький шлях — широкий пояс із далеких зірок , кожна зірка — сонце , таке як наше .\n",
      "привольный путь — широкий пояс со далеких звёзд , каждая звезда — солнце , такое как наше .\n",
      "\n",
      "незвичайно бачити рок-зірок з краваткою !\n",
      "необычайно видеть рок-звёзд со галстук !\n",
      "\n",
      "усе печиво у формі зірок .\n",
      "всё печенье во форме звёзд .\n",
      "\n",
      "що мені вдягнути — штани чи спідницю ?\n",
      "что мне одеть — штаны ли юбку ?\n",
      "\n",
      "гартман вітвер — відомий львівський скульптор .\n",
      "гартман вітвер — известный московский скульптор .\n",
      "\n",
      "то був злий кролик .\n",
      "то был злой кролик .\n",
      "\n",
      "можеш взяти будь-який , що тобі до сподоби .\n",
      "можешь взять любой , что тебе к отвратиться .\n",
      "\n",
      "звичайно я піду .\n",
      "конечно мной пойду .\n",
      "\n",
      "шовкопряди прядуть кокони .\n",
      "шелковичные прядут коконы .\n",
      "\n",
      "що б ти зробила , якщо б у тебе було , скажім , десять тисяч доларів ?\n",
      "что бы ты сделала , если бы во тебя было , замечу , десять тысяч долларов ?\n",
      "\n",
      "він думає , що він хтось , а насправді він ніхто .\n",
      "он думает , что он кто-то , а действительно он никто .\n",
      "\n",
      "вона дуже пишається своєю колекцією марок .\n",
      "она очень гордится своею коллекцией марок .\n",
      "\n",
      "він дуже простий ...\n",
      "он очень простой ...\n",
      "\n",
      "яка ти добра !\n",
      "она ты добра !\n",
      "\n",
      "як я за тобою скучив !\n",
      "как мной за тобой соскучился !\n",
      "\n",
      "це все , що я знаю .\n",
      "это всё , что мной знаю .\n",
      "\n",
      "ти ведеш щоденник ?\n",
      "ты ведёшь дневник ?\n",
      "\n",
      "тобі вирішувати .\n",
      "тебе решать .\n",
      "\n",
      "це пошта , а то — банк .\n",
      "это почта , а то — банк .\n",
      "\n",
      "це все , що я хочу зробити .\n",
      "это всё , что мной хочу сделать .\n",
      "\n",
      "я вперше дивлюся такий страшний фільм .\n",
      "мной впервые смотрю такой страшный фильм .\n",
      "\n",
      "ця пісня нагадує мені про дім .\n",
      "та песня напоминает мне о дом .\n",
      "\n",
      "хіросі тут ?\n",
      "хіросі здесь ?\n",
      "\n",
      "мене звуть джек .\n",
      "меня зовут джэк .\n",
      "\n",
      "як людина живе , так вона і помре .\n",
      "как женщина живет , так она и умрет .\n",
      "\n",
      "я тут уже дві години .\n",
      "мной здесь уже две часа .\n",
      "\n",
      "мені треба вибачитись перед ен .\n",
      "мне надо извиниться перед ен .\n",
      "\n",
      "сьогодні я бачив шпака .\n",
      "сегодня мной видел скворца .\n",
      "\n",
      "« скільки коштує ця носова хусточка ? » — « дев'яносто п'ять центів » .\n",
      "« сколько стоить та носовая косыночка ? » — « дев'яносто п'ять центов » .\n",
      "\n",
      "ранені ведмеді , як правило , дуже небезпечні .\n",
      "раненные медведи , как правило , очень опасные .\n",
      "\n",
      "він швидко втомлюється .\n",
      "он быстро устает .\n",
      "\n",
      "усі готові .\n",
      "все готовы .\n",
      "\n",
      "він скучає по своїй сім'ї .\n",
      "он скучает по своей сім'ї .\n",
      "\n",
      "« дякую » , — « на здоров'я » .\n",
      "« спасибо » , — « по здоров'я » .\n",
      "\n",
      "я ще не знаю своєї адреси , я певний час буду жити в подруги .\n",
      "мной ещe не знаю своего адреса , мной определенный момент буду жить во подруги .\n",
      "\n",
      "амазонка — друга по довжині ріка в світі після ніла .\n",
      "амазонка — вторая по длине река во мире после трепещущая .\n",
      "\n",
      "а якщо побачиш тома , передай йому від мене вітання .\n",
      "а если увидишь тома , передай ему от меня поздравления .\n",
      "\n",
      "закрий за собою двері .\n",
      "закрой за собой дверь .\n",
      "\n",
      "тримай при собі словник .\n",
      "держи при себе словарь .\n",
      "\n"
     ]
    }
   ],
   "source": [
    "# Cтратегия борьбы с out-of-vocab: не переводим такое слово, а сразу добавляем его в ответ \n",
    "for sent in uk_corpus[::10]:\n",
    "    print(\" \".join(preprocess_sentence(sent)))\n",
    "    print(translate(sent))\n",
    "    print()"
   ]
  }
 ],
 "metadata": {
  "anaconda-cloud": {},
  "colab": {
   "collapsed_sections": [],
   "machine_shape": "hm",
   "name": "homework.ipynb",
   "provenance": []
  },
  "kernelspec": {
   "display_name": "Python 3",
   "language": "python",
   "name": "python3"
  },
  "language_info": {
   "codemirror_mode": {
    "name": "ipython",
    "version": 3
   },
   "file_extension": ".py",
   "mimetype": "text/x-python",
   "name": "python",
   "nbconvert_exporter": "python",
   "pygments_lexer": "ipython3",
   "version": "3.8.0"
  }
 },
 "nbformat": 4,
 "nbformat_minor": 1
}
